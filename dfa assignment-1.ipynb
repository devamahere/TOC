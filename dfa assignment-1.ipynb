{
 "cells": [
  {
   "cell_type": "code",
   "execution_count": 3,
   "metadata": {},
   "outputs": [
    {
     "name": "stdout",
     "output_type": "stream",
     "text": [
      "abbbaaa\n",
      "valid dfa\n"
     ]
    }
   ],
   "source": [
    "#dfa for consecutive three b's\n",
    "s=input()\n",
    "flag=0\n",
    "for i in range(2,len(s)):\n",
    "    if s[i]=='b' and s[i-1]=='b' and s[i-2]=='b':\n",
    "        flag=1\n",
    "        break\n",
    "if flag==1 :\n",
    "    print(\"valid dfa\")\n",
    "else :\n",
    "    print(\"invalid dfa\")"
   ]
  },
  {
   "cell_type": "code",
   "execution_count": null,
   "metadata": {},
   "outputs": [],
   "source": []
  }
 ],
 "metadata": {
  "kernelspec": {
   "display_name": "Python 3",
   "language": "python",
   "name": "python3"
  },
  "language_info": {
   "codemirror_mode": {
    "name": "ipython",
    "version": 3
   },
   "file_extension": ".py",
   "mimetype": "text/x-python",
   "name": "python",
   "nbconvert_exporter": "python",
   "pygments_lexer": "ipython3",
   "version": "3.7.3"
  }
 },
 "nbformat": 4,
 "nbformat_minor": 2
}
