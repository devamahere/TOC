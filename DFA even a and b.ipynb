{
 "cells": [
  {
   "cell_type": "code",
   "execution_count": null,
   "metadata": {},
   "outputs": [],
   "source": [
    "#program for dfa with even number of a and b in string\n",
    "s=input()\n",
    "counta=0\n",
    "countb=0\n",
    "for i in range(len(s)):\n",
    "    if s[i]=='a':\n",
    "        counta=counta+1\n",
    "    elif s[i]=='b':\n",
    "        countb=countb+1\n",
    "if counta%2==0 and"
   ]
  }
 ],
 "metadata": {
  "kernelspec": {
   "display_name": "Python 3",
   "language": "python",
   "name": "python3"
  },
  "language_info": {
   "codemirror_mode": {
    "name": "ipython",
    "version": 3
   },
   "file_extension": ".py",
   "mimetype": "text/x-python",
   "name": "python",
   "nbconvert_exporter": "python",
   "pygments_lexer": "ipython3",
   "version": "3.7.3"
  }
 },
 "nbformat": 4,
 "nbformat_minor": 2
}
