{
 "cells": [
  {
   "cell_type": "code",
   "execution_count": 5,
   "metadata": {},
   "outputs": [
    {
     "name": "stdout",
     "output_type": "stream",
     "text": [
      "((()()))\n",
      "paranthesis are balanced\n"
     ]
    }
   ],
   "source": [
    "s=input()\n",
    "flag=0\n",
    "for i in range(len(s)):\n",
    "    if s[0]==')':\n",
    "        flag=1\n",
    "        break\n",
    "    else :\n",
    "        if s[i]=='(':\n",
    "            flag=flag+1\n",
    "        else :\n",
    "            flag=flag-1\n",
    "        if flag<0 :\n",
    "            flag=1\n",
    "            break\n",
    "if flag==0 :\n",
    "    print(\"paranthesis are balanced\")\n",
    "else :\n",
    "    print(\"parnathesis are not balanced\")"
   ]
  },
  {
   "cell_type": "code",
   "execution_count": null,
   "metadata": {},
   "outputs": [],
   "source": []
  },
  {
   "cell_type": "code",
   "execution_count": null,
   "metadata": {},
   "outputs": [],
   "source": [
    "()"
   ]
  }
 ],
 "metadata": {
  "kernelspec": {
   "display_name": "Python 3",
   "language": "python",
   "name": "python3"
  },
  "language_info": {
   "codemirror_mode": {
    "name": "ipython",
    "version": 3
   },
   "file_extension": ".py",
   "mimetype": "text/x-python",
   "name": "python",
   "nbconvert_exporter": "python",
   "pygments_lexer": "ipython3",
   "version": "3.7.3"
  }
 },
 "nbformat": 4,
 "nbformat_minor": 2
}
