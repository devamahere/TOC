{
 "cells": [
  {
   "cell_type": "code",
   "execution_count": 3,
   "metadata": {},
   "outputs": [
    {
     "name": "stdout",
     "output_type": "stream",
     "text": [
      "abbabbaa\n",
      "valid dfa\n"
     ]
    }
   ],
   "source": [
    "# dfa for strings having equal number of a and b\n",
    "s=input()\n",
    "counta=0\n",
    "countb=0\n",
    "for i in range(len(s)):\n",
    "    if s[i]=='a':\n",
    "        counta=counta+1\n",
    "    elif s[i]=='b':\n",
    "        countb=countb+1\n",
    "if counta==countb :\n",
    "    print(\"valid dfa\")\n",
    "else :\n",
    "    print(\"invalid dfa\")"
   ]
  },
  {
   "cell_type": "code",
   "execution_count": null,
   "metadata": {},
   "outputs": [],
   "source": []
  }
 ],
 "metadata": {
  "kernelspec": {
   "display_name": "Python 3",
   "language": "python",
   "name": "python3"
  },
  "language_info": {
   "codemirror_mode": {
    "name": "ipython",
    "version": 3
   },
   "file_extension": ".py",
   "mimetype": "text/x-python",
   "name": "python",
   "nbconvert_exporter": "python",
   "pygments_lexer": "ipython3",
   "version": "3.7.3"
  }
 },
 "nbformat": 4,
 "nbformat_minor": 2
}
