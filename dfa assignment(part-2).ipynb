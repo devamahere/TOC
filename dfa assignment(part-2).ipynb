{
 "cells": [
  {
   "cell_type": "code",
   "execution_count": null,
   "metadata": {},
   "outputs": [],
   "source": [
    "s=input()\n",
    "flag=0\n",
    "if len(s)>2 :\n",
    "    if s[len(s)-1]=='b' and s[len(s)-2]=='a' and s[len(s)-3]=='b':\n",
    "        flag=1\n",
    "if flag==1:\n",
    "    print(\"valid dfa\")\n",
    "else :\n",
    "    print()"
   ]
  }
 ],
 "metadata": {
  "kernelspec": {
   "display_name": "Python 3",
   "language": "python",
   "name": "python3"
  },
  "language_info": {
   "codemirror_mode": {
    "name": "ipython",
    "version": 3
   },
   "file_extension": ".py",
   "mimetype": "text/x-python",
   "name": "python",
   "nbconvert_exporter": "python",
   "pygments_lexer": "ipython3",
   "version": "3.7.3"
  }
 },
 "nbformat": 4,
 "nbformat_minor": 2
}
